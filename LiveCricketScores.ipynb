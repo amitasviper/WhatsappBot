{
 "cells": [
  {
   "cell_type": "code",
   "execution_count": null,
   "metadata": {
    "collapsed": true
   },
   "outputs": [],
   "source": []
  },
  {
   "cell_type": "code",
   "execution_count": 117,
   "metadata": {
    "collapsed": true
   },
   "outputs": [],
   "source": [
    "from selenium import webdriver\n",
    "from selenium.webdriver.common.keys import Keys\n",
    "import time, os\n",
    "\n",
    "driver = None"
   ]
  },
  {
   "cell_type": "code",
   "execution_count": 118,
   "metadata": {
    "collapsed": true
   },
   "outputs": [],
   "source": [
    "def wait(web_opening_time=3):\n",
    "\ttime.sleep(web_opening_time)\n",
    "\n",
    "def web_driver_load():\n",
    "\tglobal driver\n",
    "\tdriver = webdriver.Chrome(os.path.join(os.getcwd(),'chromedriver'))\n",
    "\n",
    "def web_driver_quit():\n",
    "\tdriver.quit()\n",
    "\n",
    "def whatsapp_login():\n",
    "\tdriver.get('https://web.whatsapp.com/');\n",
    "\twait(10)\n",
    "\n"
   ]
  },
  {
   "cell_type": "code",
   "execution_count": 119,
   "metadata": {
    "collapsed": true
   },
   "outputs": [],
   "source": [
    "web_driver_load()\n",
    "whatsapp_login()"
   ]
  },
  {
   "cell_type": "code",
   "execution_count": 120,
   "metadata": {
    "collapsed": true
   },
   "outputs": [],
   "source": [
    "def sendMessage(msg, recepient_list, instant=False):\n",
    "    for recep in recepient_list:\n",
    "        print \"Sending to : \",recep\n",
    "        try:\n",
    "            one_chat = driver.find_element_by_xpath(\"//span[@title='%s']\"%(recep))\n",
    "        except:\n",
    "            print \"Unable to find username [%s]\"%recep\n",
    "            continue\n",
    "        if one_chat != None:\n",
    "            try:\n",
    "                one_chat.click()\n",
    "                wait(1)\n",
    "                print \"Chatbox opened for \", recep\n",
    "                text_box = driver.find_element_by_xpath(\"//div[@contenteditable='true']\")\n",
    "                for letter in list(msg):\n",
    "                    if instant:\n",
    "                        text_box.send_keys(msg)\n",
    "                        break\n",
    "                    text_box.send_keys(letter)\n",
    "                    wait(0.1)\n",
    "                text_box.send_keys(Keys.RETURN)\n",
    "            except:\n",
    "                print \"Unable to send msg [%s] to [%s]\"%(msg, recep)\n",
    "                continue\n",
    "            \n",
    "            print \"Message [%s] sent to [%s]\"%(msg, recep)"
   ]
  },
  {
   "cell_type": "code",
   "execution_count": 121,
   "metadata": {
    "collapsed": true
   },
   "outputs": [],
   "source": [
    "messages_o = []\n",
    "with open('wishes.txt') as f:\n",
    "    messages_o = f.read().splitlines()"
   ]
  },
  {
   "cell_type": "code",
   "execution_count": 122,
   "metadata": {},
   "outputs": [
    {
     "name": "stdout",
     "output_type": "stream",
     "text": [
      "Total messages :  399\n",
      "Total time :  73 minutes\n"
     ]
    }
   ],
   "source": [
    "number_of_times = 1\n",
    "recepients = [\"Cricket\"]\n",
    "lcount= 0\n",
    "ignore = [\"dad\", \"father\", \"son\", \"mom\", \"mother\",\"sister\"]\n",
    "\n",
    "messages = []\n",
    "\n",
    "for l in messages_o:\n",
    "    found = False\n",
    "    for imsg in ignore:\n",
    "        if l.lower().find(imsg) != -1:\n",
    "            found = True\n",
    "            break\n",
    "    if found == False:\n",
    "        messages.append(l)\n",
    "\n",
    "\n",
    "for l in messages:\n",
    "    lcount += len(l)\n",
    "\n",
    "print \"Total messages : \", len(messages)\n",
    "print \"Total time : \",(lcount/10 + len(messages)) / 60, \"minutes\"\n",
    "\n"
   ]
  },
  {
   "cell_type": "code",
   "execution_count": 123,
   "metadata": {
    "collapsed": true
   },
   "outputs": [],
   "source": [
    "recepients = [\"Cricket\"]\n",
    "\n",
    "from pycricbuzz import Cricbuzz\n",
    "import json\n",
    "import time"
   ]
  },
  {
   "cell_type": "code",
   "execution_count": 124,
   "metadata": {
    "collapsed": true
   },
   "outputs": [],
   "source": [
    "def getScores(c, match):\n",
    "    return c.livescore(match['id'])"
   ]
  },
  {
   "cell_type": "code",
   "execution_count": null,
   "metadata": {},
   "outputs": [],
   "source": [
    "\n"
   ]
  },
  {
   "cell_type": "code",
   "execution_count": 125,
   "metadata": {},
   "outputs": [],
   "source": [
    "def cricket_main(instant=False):\n",
    "    cricket = Cricbuzz()\n",
    "    matches = cricket.matches()\n",
    "    i_match = None\n",
    "    for match in matches:\n",
    "        if(match['mchstate'] != \"nextlive\") and match['mchdesc'] == 'WI vs IND':\n",
    "            i_match = match\n",
    "    if not i_match:\n",
    "        print \"No match found\"\n",
    "        return None\n",
    "    old_msg = \"\"\n",
    "    while True:\n",
    "        resp = getScores(cricket, i_match)\n",
    "        batsmen = resp['batting']['batsman']\n",
    "        bat_one = batsmen[0]\n",
    "        bat_two = batsmen[0]\n",
    "        if len(batsmen) == 2:\n",
    "            bat_two = batsmen[1]\n",
    "        w_resp = 'Batsman :'\n",
    "        one = \"%20s : %s/%s\"%(bat_one['name'], bat_one['runs'], bat_one['balls'])\n",
    "        two = \"%20s : %s/%s\"%(bat_two['name'], bat_two['runs'], bat_two['balls'])\n",
    "        w_resp += one\n",
    "        w_resp += two\n",
    "        w_resp += \"%20s : %s\"%(\"Runs\", resp['batting']['score'][0]['runs'])\n",
    "        w_resp += \"%20s : %s\"%(\"Wickets\", resp['batting']['score'][0]['wickets'])\n",
    "        w_resp += \"%20s : %s\"%(\"Overs\", resp['batting']['score'][0]['overs'])\n",
    "        if old_msg != w_resp:\n",
    "            sendMessage(w_resp, recepients, instant)\n",
    "            old_msg = w_resp\n",
    "        time.sleep(1)\n",
    "        #sendMessage(msg, recepients, instant)"
   ]
  },
  {
   "cell_type": "code",
   "execution_count": 126,
   "metadata": {},
   "outputs": [
    {
     "name": "stdout",
     "output_type": "stream",
     "text": [
      "Sending to :  Cricket\n",
      "Chatbox opened for  Cricket\n",
      "Message [Batsman :               Dhoni : 13/13        Kedar Jadhav : 13/6                Runs : 310             Wickets : 5               Overs : 43] sent to [Cricket]\n",
      "Sending to :  Cricket\n",
      "Chatbox opened for  Cricket\n",
      "Message [Batsman :           K Powell* : 0/0           Shai Hope : 0/0                Runs : 0             Wickets : 0               Overs : 0] sent to [Cricket]\n",
      "Sending to :  Cricket\n",
      "Chatbox opened for  Cricket\n",
      "Message [Batsman :           K Powell* : 0/1           Shai Hope : 0/0                Runs : 0             Wickets : 0               Overs : 0.1] sent to [Cricket]\n",
      "Sending to :  Cricket\n",
      "Chatbox opened for  Cricket\n",
      "Message [Batsman :           K Powell* : 0/2           Shai Hope : 0/0                Runs : 0             Wickets : 0               Overs : 0.2] sent to [Cricket]\n",
      "Sending to :  Cricket\n",
      "Chatbox opened for  Cricket\n",
      "Message [Batsman :           Shai Hope : 0/0           Shai Hope : 0/0                Runs : 0             Wickets : 1               Overs : 0.3] sent to [Cricket]\n",
      "Sending to :  Cricket\n",
      "Chatbox opened for  Cricket\n",
      "Message [Batsman :     Jason Mohammed* : 0/0           Shai Hope : 0/0                Runs : 0             Wickets : 1               Overs : 0.3] sent to [Cricket]\n",
      "Sending to :  Cricket\n",
      "Chatbox opened for  Cricket\n",
      "Message [Batsman :     Jason Mohammed* : 0/1           Shai Hope : 0/0                Runs : 0             Wickets : 1               Overs : 0.4] sent to [Cricket]\n",
      "Sending to :  Cricket\n",
      "Chatbox opened for  Cricket\n",
      "Message [Batsman :     Jason Mohammed* : 0/2           Shai Hope : 0/0                Runs : 0             Wickets : 1               Overs : 0.5] sent to [Cricket]\n",
      "Sending to :  Cricket\n",
      "Chatbox opened for  Cricket\n",
      "Message [Batsman :          Shai Hope* : 0/0      Jason Mohammed : 0/3                Runs : 2             Wickets : 1               Overs : 1] sent to [Cricket]\n",
      "Sending to :  Cricket\n",
      "Chatbox opened for  Cricket\n",
      "Message [Batsman :          Shai Hope* : 0/1      Jason Mohammed : 0/3                Runs : 2             Wickets : 1               Overs : 1.1] sent to [Cricket]\n",
      "Sending to :  Cricket\n",
      "Chatbox opened for  Cricket\n",
      "Message [Batsman :          Shai Hope* : 0/2      Jason Mohammed : 0/3                Runs : 2             Wickets : 1               Overs : 1.2] sent to [Cricket]\n",
      "Sending to :  Cricket\n",
      "Chatbox opened for  Cricket\n",
      "Message [Batsman :          Shai Hope* : 0/3      Jason Mohammed : 0/3                Runs : 2             Wickets : 1               Overs : 1.3] sent to [Cricket]\n",
      "Sending to :  Cricket\n",
      "Chatbox opened for  Cricket\n",
      "Message [Batsman :          Shai Hope* : 0/3      Jason Mohammed : 0/3                Runs : 3             Wickets : 1               Overs : 1.3] sent to [Cricket]\n",
      "Sending to :  Cricket\n",
      "Chatbox opened for  Cricket\n",
      "Message [Batsman :          Shai Hope* : 0/4      Jason Mohammed : 0/3                Runs : 3             Wickets : 1               Overs : 1.4] sent to [Cricket]\n",
      "Sending to :  Cricket\n",
      "Chatbox opened for  Cricket\n",
      "Message [Batsman :          Shai Hope* : 0/5      Jason Mohammed : 0/3                Runs : 3             Wickets : 1               Overs : 1.5] sent to [Cricket]\n",
      "Sending to :  Cricket\n",
      "Chatbox opened for  Cricket\n",
      "Message [Batsman :     Jason Mohammed* : 0/3           Shai Hope : 0/6                Runs : 3             Wickets : 1               Overs : 2] sent to [Cricket]\n",
      "Sending to :  Cricket\n",
      "Chatbox opened for  Cricket\n",
      "Message [Batsman :     Jason Mohammed* : 0/4           Shai Hope : 0/6                Runs : 3             Wickets : 1               Overs : 2.1] sent to [Cricket]\n",
      "Sending to :  Cricket\n",
      "Chatbox opened for  Cricket\n",
      "Message [Batsman :     Jason Mohammed* : 0/5           Shai Hope : 0/6                Runs : 3             Wickets : 1               Overs : 2.2] sent to [Cricket]\n",
      "Sending to :  Cricket\n",
      "Chatbox opened for  Cricket\n",
      "Message [Batsman :     Jason Mohammed* : 0/5           Shai Hope : 0/6                Runs : 4             Wickets : 1               Overs : 2.2] sent to [Cricket]\n",
      "Sending to :  Cricket\n",
      "Chatbox opened for  Cricket\n",
      "Message [Batsman :     Jason Mohammed* : 0/6           Shai Hope : 0/6                Runs : 4             Wickets : 1               Overs : 2.3] sent to [Cricket]\n",
      "Sending to :  Cricket\n",
      "Chatbox opened for  Cricket\n",
      "Message [Batsman :     Jason Mohammed* : 0/7           Shai Hope : 0/6                Runs : 4             Wickets : 1               Overs : 2.4] sent to [Cricket]\n",
      "Sending to :  Cricket\n",
      "Chatbox opened for  Cricket\n",
      "Message [Batsman :           Shai Hope : 0/6           Shai Hope : 0/6                Runs : 4             Wickets : 2               Overs : 2.5] sent to [Cricket]\n",
      "Sending to :  Cricket\n",
      "Chatbox opened for  Cricket\n",
      "Message [Batsman :              Lewis* : 0/0           Shai Hope : 0/6                Runs : 4             Wickets : 2               Overs : 2.5] sent to [Cricket]\n",
      "Sending to :  Cricket\n",
      "Chatbox opened for  Cricket\n",
      "Message [Batsman :          Shai Hope* : 0/6               Lewis : 0/1                Runs : 4             Wickets : 2               Overs : 3] sent to [Cricket]\n",
      "Sending to :  Cricket\n",
      "Chatbox opened for  Cricket\n",
      "Message [Batsman :          Shai Hope* : 0/7               Lewis : 0/1                Runs : 4             Wickets : 2               Overs : 3.1] sent to [Cricket]\n",
      "Sending to :  Cricket\n",
      "Chatbox opened for  Cricket\n",
      "Message [Batsman :              Lewis* : 0/1           Shai Hope : 1/8                Runs : 5             Wickets : 2               Overs : 3.2] sent to [Cricket]\n",
      "Sending to :  Cricket\n",
      "Chatbox opened for  Cricket\n",
      "Message [Batsman :              Lewis* : 0/2           Shai Hope : 1/8                Runs : 5             Wickets : 2               Overs : 3.3] sent to [Cricket]\n",
      "Sending to :  Cricket\n",
      "Chatbox opened for  Cricket\n",
      "Message [Batsman :              Lewis* : 0/3           Shai Hope : 1/8                Runs : 5             Wickets : 2               Overs : 3.4] sent to [Cricket]\n",
      "Sending to :  Cricket\n",
      "Chatbox opened for  Cricket\n",
      "Message [Batsman :              Lewis* : 0/4           Shai Hope : 1/8                Runs : 5             Wickets : 2               Overs : 3.5] sent to [Cricket]\n",
      "Sending to :  Cricket\n",
      "Chatbox opened for  Cricket\n",
      "Message [Batsman :          Shai Hope* : 1/8               Lewis : 0/5                Runs : 5             Wickets : 2               Overs : 4] sent to [Cricket]\n",
      "Sending to :  Cricket\n",
      "Chatbox opened for  Cricket\n",
      "Message [Batsman :          Shai Hope* : 1/9               Lewis : 0/5                Runs : 5             Wickets : 2               Overs : 4.1] sent to [Cricket]\n",
      "Sending to :  Cricket\n",
      "Chatbox opened for  Cricket\n",
      "Message [Batsman :          Shai Hope* : 1/10               Lewis : 0/5                Runs : 5             Wickets : 2               Overs : 4.2] sent to [Cricket]\n",
      "Sending to :  Cricket\n",
      "Chatbox opened for  Cricket\n",
      "Message [Batsman :              Lewis* : 0/5           Shai Hope : 2/11                Runs : 6             Wickets : 2               Overs : 4.3] sent to [Cricket]\n",
      "Sending to :  Cricket\n",
      "Chatbox opened for  Cricket\n",
      "Message [Batsman :              Lewis* : 0/6           Shai Hope : 2/11                Runs : 6             Wickets : 2               Overs : 4.4] sent to [Cricket]\n",
      "Sending to :  Cricket\n",
      "Chatbox opened for  Cricket\n",
      "Message [Batsman :              Lewis* : 0/7           Shai Hope : 2/11                Runs : 6             Wickets : 2               Overs : 4.5] sent to [Cricket]\n",
      "Sending to :  Cricket\n",
      "Chatbox opened for  Cricket\n",
      "Message [Batsman :          Shai Hope* : 2/11               Lewis : 0/8                Runs : 6             Wickets : 2               Overs : 5] sent to [Cricket]\n",
      "Sending to :  Cricket\n",
      "Chatbox opened for  Cricket\n",
      "Message [Batsman :          Shai Hope* : 4/12               Lewis : 0/8                Runs : 8             Wickets : 2               Overs : 5.1] sent to [Cricket]\n",
      "Sending to :  Cricket\n",
      "Chatbox opened for  Cricket\n",
      "Message [Batsman :          Shai Hope* : 6/13               Lewis : 0/8                Runs : 10             Wickets : 2               Overs : 5.2] sent to [Cricket]\n",
      "Sending to :  Cricket\n",
      "Chatbox opened for  Cricket\n",
      "Message [Batsman :          Shai Hope* : 6/14               Lewis : 0/8                Runs : 10             Wickets : 2               Overs : 5.3] sent to [Cricket]\n"
     ]
    },
    {
     "name": "stdout",
     "output_type": "stream",
     "text": [
      "Sending to :  Cricket\n",
      "Chatbox opened for  Cricket\n",
      "Message [Batsman :          Shai Hope* : 8/15               Lewis : 0/8                Runs : 12             Wickets : 2               Overs : 5.4] sent to [Cricket]\n",
      "Sending to :  Cricket\n",
      "Chatbox opened for  Cricket\n",
      "Message [Batsman :          Shai Hope* : 12/16               Lewis : 0/8                Runs : 16             Wickets : 2               Overs : 5.5] sent to [Cricket]\n",
      "Sending to :  Cricket\n",
      "Chatbox opened for  Cricket\n",
      "Message [Batsman :              Lewis* : 0/8           Shai Hope : 12/17                Runs : 16             Wickets : 2               Overs : 6] sent to [Cricket]\n",
      "Sending to :  Cricket\n",
      "Chatbox opened for  Cricket\n",
      "Message [Batsman :          Shai Hope* : 12/17               Lewis : 0/9                Runs : 17             Wickets : 2               Overs : 6.1] sent to [Cricket]\n",
      "Sending to :  Cricket\n",
      "Chatbox opened for  Cricket\n",
      "Message [Batsman :          Shai Hope* : 12/18               Lewis : 0/9                Runs : 17             Wickets : 2               Overs : 6.2] sent to [Cricket]\n",
      "Sending to :  Cricket\n",
      "Chatbox opened for  Cricket\n",
      "Message [Batsman :          Shai Hope* : 12/19               Lewis : 0/9                Runs : 17             Wickets : 2               Overs : 6.3] sent to [Cricket]\n",
      "Sending to :  Cricket\n",
      "Chatbox opened for  Cricket\n",
      "Message [Batsman :          Shai Hope* : 12/20               Lewis : 0/9                Runs : 17             Wickets : 2               Overs : 6.4] sent to [Cricket]\n",
      "Sending to :  Cricket\n",
      "Chatbox opened for  Cricket\n",
      "Message [Batsman :          Shai Hope* : 12/21               Lewis : 0/9                Runs : 17             Wickets : 2               Overs : 6.5] sent to [Cricket]\n",
      "Sending to :  Cricket\n",
      "Chatbox opened for  Cricket\n",
      "Message [Batsman :          Shai Hope* : 13/22               Lewis : 0/9                Runs : 18             Wickets : 2               Overs : 7] sent to [Cricket]\n",
      "Sending to :  Cricket\n",
      "Chatbox opened for  Cricket\n",
      "Message [Batsman :          Shai Hope* : 13/23               Lewis : 0/9                Runs : 18             Wickets : 2               Overs : 7.1] sent to [Cricket]\n",
      "Sending to :  Cricket\n",
      "Chatbox opened for  Cricket\n",
      "Message [Batsman :          Shai Hope* : 15/24               Lewis : 0/9                Runs : 20             Wickets : 2               Overs : 7.2] sent to [Cricket]\n",
      "Sending to :  Cricket\n",
      "Chatbox opened for  Cricket\n",
      "Message [Batsman :          Shai Hope* : 15/25               Lewis : 0/9                Runs : 20             Wickets : 2               Overs : 7.3] sent to [Cricket]\n",
      "Sending to :  Cricket\n",
      "Chatbox opened for  Cricket\n",
      "Message [Batsman :              Lewis* : 0/9           Shai Hope : 16/26                Runs : 21             Wickets : 2               Overs : 7.4] sent to [Cricket]\n",
      "Sending to :  Cricket\n",
      "Chatbox opened for  Cricket\n",
      "Message [Batsman :              Lewis* : 0/10           Shai Hope : 16/26                Runs : 21             Wickets : 2               Overs : 7.5] sent to [Cricket]\n",
      "Sending to :  Cricket\n",
      "Chatbox opened for  Cricket\n",
      "Message [Batsman :              Lewis* : 0/11           Shai Hope : 16/26                Runs : 22             Wickets : 2               Overs : 8] sent to [Cricket]\n",
      "Sending to :  Cricket\n",
      "Chatbox opened for  Cricket\n",
      "Message [Batsman :          Shai Hope* : 16/26               Lewis : 1/12                Runs : 23             Wickets : 2               Overs : 8.1] sent to [Cricket]\n",
      "Sending to :  Cricket\n",
      "Chatbox opened for  Cricket\n",
      "Message [Batsman :          Shai Hope* : 16/27               Lewis : 1/12                Runs : 23             Wickets : 2               Overs : 8.2] sent to [Cricket]\n",
      "Sending to :  Cricket\n",
      "Chatbox opened for  Cricket\n",
      "Message [Batsman :          Shai Hope* : 16/28               Lewis : 1/12                Runs : 23             Wickets : 2               Overs : 8.3] sent to [Cricket]\n",
      "Sending to :  Cricket\n",
      "Chatbox opened for  Cricket\n",
      "Message [Batsman :          Shai Hope* : 20/29               Lewis : 1/12                Runs : 27             Wickets : 2               Overs : 8.4] sent to [Cricket]\n",
      "Sending to :  Cricket\n",
      "Chatbox opened for  Cricket\n",
      "Message [Batsman :          Shai Hope* : 20/30               Lewis : 1/12                Runs : 27             Wickets : 2               Overs : 8.5] sent to [Cricket]\n",
      "Sending to :  Cricket\n",
      "Chatbox opened for  Cricket\n",
      "Message [Batsman :          Shai Hope* : 21/31               Lewis : 1/12                Runs : 28             Wickets : 2               Overs : 9] sent to [Cricket]\n",
      "Sending to :  Cricket\n",
      "Chatbox opened for  Cricket\n",
      "Message [Batsman :          Shai Hope* : 21/32               Lewis : 1/12                Runs : 28             Wickets : 2               Overs : 9.1] sent to [Cricket]\n",
      "Sending to :  Cricket\n",
      "Chatbox opened for  Cricket\n",
      "Message [Batsman :          Shai Hope* : 21/33               Lewis : 1/12                Runs : 28             Wickets : 2               Overs : 9.2] sent to [Cricket]\n",
      "Sending to :  Cricket\n",
      "Chatbox opened for  Cricket\n",
      "Message [Batsman :              Lewis* : 1/12           Shai Hope : 22/34                Runs : 29             Wickets : 2               Overs : 9.3] sent to [Cricket]\n",
      "Sending to :  Cricket\n",
      "Chatbox opened for  Cricket\n",
      "Message [Batsman :              Lewis* : 1/13           Shai Hope : 22/34                Runs : 29             Wickets : 2               Overs : 9.4] sent to [Cricket]\n",
      "Sending to :  Cricket\n",
      "Chatbox opened for  Cricket\n",
      "Message [Batsman :          Shai Hope* : 22/34               Lewis : 2/14                Runs : 30             Wickets : 2               Overs : 9.5] sent to [Cricket]\n",
      "Sending to :  Cricket\n",
      "Chatbox opened for  Cricket\n",
      "Message [Batsman :          Shai Hope* : 23/35               Lewis : 2/14                Runs : 31             Wickets : 2               Overs : 10] sent to [Cricket]\n",
      "Sending to :  Cricket\n",
      "Chatbox opened for  Cricket\n",
      "Message [Batsman :          Shai Hope* : 23/36               Lewis : 2/14                Runs : 31             Wickets : 2               Overs : 10.1] sent to [Cricket]\n",
      "Sending to :  Cricket\n",
      "Chatbox opened for  Cricket\n",
      "Message [Batsman :          Shai Hope* : 23/37               Lewis : 2/14                Runs : 31             Wickets : 2               Overs : 10.2] sent to [Cricket]\n",
      "Sending to :  Cricket\n",
      "Chatbox opened for  Cricket\n",
      "Message [Batsman :          Shai Hope* : 23/38               Lewis : 2/14                Runs : 31             Wickets : 2               Overs : 10.3] sent to [Cricket]\n",
      "Sending to :  Cricket\n",
      "Chatbox opened for  Cricket\n",
      "Message [Batsman :              Lewis* : 2/14           Shai Hope : 24/39                Runs : 32             Wickets : 2               Overs : 10.4] sent to [Cricket]\n",
      "Sending to :  Cricket\n",
      "Chatbox opened for  Cricket\n",
      "Message [Batsman :              Lewis* : 2/15           Shai Hope : 24/39                Runs : 32             Wickets : 2               Overs : 10.5] sent to [Cricket]\n",
      "Sending to :  Cricket\n",
      "Chatbox opened for  Cricket\n",
      "Message [Batsman :              Lewis* : 3/16           Shai Hope : 24/39                Runs : 33             Wickets : 2               Overs : 11] sent to [Cricket]\n",
      "Sending to :  Cricket\n",
      "Chatbox opened for  Cricket\n",
      "Message [Batsman :          Shai Hope* : 24/39               Lewis : 4/17                Runs : 34             Wickets : 2               Overs : 11.1] sent to [Cricket]\n",
      "Sending to :  Cricket\n",
      "Chatbox opened for  Cricket\n",
      "Message [Batsman :          Shai Hope* : 24/40               Lewis : 4/17                Runs : 34             Wickets : 2               Overs : 11.2] sent to [Cricket]\n",
      "Sending to :  Cricket\n",
      "Chatbox opened for  Cricket\n",
      "Message [Batsman :              Lewis* : 4/17           Shai Hope : 25/41                Runs : 35             Wickets : 2               Overs : 11.3] sent to [Cricket]\n",
      "Sending to :  Cricket\n",
      "Chatbox opened for  Cricket\n",
      "Message [Batsman :              Lewis* : 4/18           Shai Hope : 25/41                Runs : 35             Wickets : 2               Overs : 11.4] sent to [Cricket]\n",
      "Sending to :  Cricket\n",
      "Chatbox opened for  Cricket\n",
      "Message [Batsman :          Shai Hope* : 25/41               Lewis : 5/19                Runs : 36             Wickets : 2               Overs : 11.5] sent to [Cricket]\n"
     ]
    },
    {
     "name": "stdout",
     "output_type": "stream",
     "text": [
      "Sending to :  Cricket\n",
      "Chatbox opened for  Cricket\n",
      "Message [Batsman :          Shai Hope* : 26/42               Lewis : 5/19                Runs : 37             Wickets : 2               Overs : 12] sent to [Cricket]\n",
      "Sending to :  Cricket\n",
      "Chatbox opened for  Cricket\n",
      "Message [Batsman :          Shai Hope* : 26/43               Lewis : 5/19                Runs : 37             Wickets : 2               Overs : 12.1] sent to [Cricket]\n",
      "Sending to :  Cricket\n",
      "Chatbox opened for  Cricket\n",
      "Message [Batsman :          Shai Hope* : 26/44               Lewis : 5/19                Runs : 37             Wickets : 2               Overs : 12.2] sent to [Cricket]\n",
      "Sending to :  Cricket\n",
      "Chatbox opened for  Cricket\n",
      "Message [Batsman :          Shai Hope* : 26/45               Lewis : 5/19                Runs : 37             Wickets : 2               Overs : 12.3] sent to [Cricket]\n",
      "Sending to :  Cricket\n",
      "Chatbox opened for  Cricket\n",
      "Message [Batsman :          Shai Hope* : 28/46               Lewis : 5/19                Runs : 39             Wickets : 2               Overs : 12.4] sent to [Cricket]\n",
      "Sending to :  Cricket\n",
      "Chatbox opened for  Cricket\n",
      "Message [Batsman :              Lewis* : 5/19           Shai Hope : 29/47                Runs : 40             Wickets : 2               Overs : 12.5] sent to [Cricket]\n",
      "Sending to :  Cricket\n",
      "Chatbox opened for  Cricket\n",
      "Message [Batsman :          Shai Hope* : 29/47               Lewis : 5/20                Runs : 40             Wickets : 2               Overs : 13] sent to [Cricket]\n",
      "Sending to :  Cricket\n",
      "Chatbox opened for  Cricket\n",
      "Message [Batsman :          Shai Hope* : 29/48               Lewis : 5/20                Runs : 40             Wickets : 2               Overs : 13.1] sent to [Cricket]\n",
      "Sending to :  Cricket\n",
      "Chatbox opened for  Cricket\n",
      "Message [Batsman :          Shai Hope* : 33/49               Lewis : 5/20                Runs : 44             Wickets : 2               Overs : 13.2] sent to [Cricket]\n",
      "Sending to :  Cricket\n",
      "Chatbox opened for  Cricket\n",
      "Message [Batsman :          Shai Hope* : 35/50               Lewis : 5/20                Runs : 46             Wickets : 2               Overs : 13.3] sent to [Cricket]\n",
      "Sending to :  Cricket\n",
      "Chatbox opened for  Cricket\n",
      "Message [Batsman :          Shai Hope* : 35/51               Lewis : 5/20                Runs : 46             Wickets : 2               Overs : 13.4] sent to [Cricket]\n",
      "Sending to :  Cricket\n",
      "Chatbox opened for  Cricket\n",
      "Message [Batsman :          Shai Hope* : 39/52               Lewis : 5/20                Runs : 50             Wickets : 2               Overs : 13.5] sent to [Cricket]\n",
      "Sending to :  Cricket\n",
      "Chatbox opened for  Cricket\n",
      "Message [Batsman :              Lewis* : 5/20           Shai Hope : 39/53                Runs : 50             Wickets : 2               Overs : 14] sent to [Cricket]\n",
      "Sending to :  Cricket\n",
      "Chatbox opened for  Cricket\n",
      "Message [Batsman :          Shai Hope* : 39/53               Lewis : 6/21                Runs : 51             Wickets : 2               Overs : 14.1] sent to [Cricket]\n",
      "Sending to :  Cricket\n",
      "Chatbox opened for  Cricket\n",
      "Message [Batsman :              Lewis* : 6/21           Shai Hope : 40/54                Runs : 52             Wickets : 2               Overs : 14.2] sent to [Cricket]\n",
      "Sending to :  Cricket\n",
      "Chatbox opened for  Cricket\n",
      "Message [Batsman :              Lewis* : 6/22           Shai Hope : 40/54                Runs : 52             Wickets : 2               Overs : 14.3] sent to [Cricket]\n",
      "Sending to :  Cricket\n",
      "Chatbox opened for  Cricket\n",
      "Message [Batsman :          Shai Hope* : 40/54               Lewis : 7/23                Runs : 53             Wickets : 2               Overs : 14.4] sent to [Cricket]\n",
      "Sending to :  Cricket\n",
      "Chatbox opened for  Cricket\n",
      "Message [Batsman :              Lewis* : 7/23           Shai Hope : 41/55                Runs : 54             Wickets : 2               Overs : 14.5] sent to [Cricket]\n",
      "Sending to :  Cricket\n",
      "Chatbox opened for  Cricket\n",
      "Message [Batsman :          Shai Hope* : 41/55               Lewis : 7/24                Runs : 54             Wickets : 2               Overs : 15] sent to [Cricket]\n",
      "Sending to :  Cricket\n",
      "Chatbox opened for  Cricket\n",
      "Message [Batsman :          Shai Hope* : 41/56               Lewis : 7/24                Runs : 54             Wickets : 2               Overs : 15.1] sent to [Cricket]\n",
      "Sending to :  Cricket\n",
      "Chatbox opened for  Cricket\n",
      "Message [Batsman :              Lewis* : 7/24           Shai Hope : 42/57                Runs : 55             Wickets : 2               Overs : 15.2] sent to [Cricket]\n",
      "Sending to :  Cricket\n",
      "Chatbox opened for  Cricket\n",
      "Message [Batsman :          Shai Hope* : 42/57               Lewis : 8/25                Runs : 56             Wickets : 2               Overs : 15.3] sent to [Cricket]\n",
      "Sending to :  Cricket\n",
      "Chatbox opened for  Cricket\n",
      "Message [Batsman :          Shai Hope* : 42/58               Lewis : 8/25                Runs : 56             Wickets : 2               Overs : 15.4] sent to [Cricket]\n",
      "Sending to :  Cricket\n",
      "Chatbox opened for  Cricket\n",
      "Message [Batsman :              Lewis* : 8/25           Shai Hope : 43/59                Runs : 57             Wickets : 2               Overs : 15.5] sent to [Cricket]\n",
      "Sending to :  Cricket\n",
      "Chatbox opened for  Cricket\n",
      "Message [Batsman :              Lewis* : 9/26           Shai Hope : 43/59                Runs : 58             Wickets : 2               Overs : 16] sent to [Cricket]\n"
     ]
    },
    {
     "ename": "TypeError",
     "evalue": "string indices must be integers, not str",
     "output_type": "error",
     "traceback": [
      "\u001b[0;31m-------------------------------------------------\u001b[0m",
      "\u001b[0;31mTypeError\u001b[0m       Traceback (most recent call last)",
      "\u001b[0;32m<ipython-input-126-ac850ee21d44>\u001b[0m in \u001b[0;36m<module>\u001b[0;34m()\u001b[0m\n\u001b[0;32m----> 1\u001b[0;31m \u001b[0mcricket_main\u001b[0m\u001b[0;34m(\u001b[0m\u001b[0mTrue\u001b[0m\u001b[0;34m)\u001b[0m\u001b[0;34m\u001b[0m\u001b[0m\n\u001b[0m",
      "\u001b[0;32m<ipython-input-125-57dbac792bd5>\u001b[0m in \u001b[0;36mcricket_main\u001b[0;34m(instant)\u001b[0m\n\u001b[1;32m     12\u001b[0m     \u001b[0;32mwhile\u001b[0m \u001b[0mTrue\u001b[0m\u001b[0;34m:\u001b[0m\u001b[0;34m\u001b[0m\u001b[0m\n\u001b[1;32m     13\u001b[0m         \u001b[0mresp\u001b[0m \u001b[0;34m=\u001b[0m \u001b[0mgetScores\u001b[0m\u001b[0;34m(\u001b[0m\u001b[0mcricket\u001b[0m\u001b[0;34m,\u001b[0m \u001b[0mi_match\u001b[0m\u001b[0;34m)\u001b[0m\u001b[0;34m\u001b[0m\u001b[0m\n\u001b[0;32m---> 14\u001b[0;31m         \u001b[0mbatsmen\u001b[0m \u001b[0;34m=\u001b[0m \u001b[0mresp\u001b[0m\u001b[0;34m[\u001b[0m\u001b[0;34m'batting'\u001b[0m\u001b[0;34m]\u001b[0m\u001b[0;34m[\u001b[0m\u001b[0;34m'batsman'\u001b[0m\u001b[0;34m]\u001b[0m\u001b[0;34m\u001b[0m\u001b[0m\n\u001b[0m\u001b[1;32m     15\u001b[0m         \u001b[0mbat_one\u001b[0m \u001b[0;34m=\u001b[0m \u001b[0mbatsmen\u001b[0m\u001b[0;34m[\u001b[0m\u001b[0;36m0\u001b[0m\u001b[0;34m]\u001b[0m\u001b[0;34m\u001b[0m\u001b[0m\n\u001b[1;32m     16\u001b[0m         \u001b[0mbat_two\u001b[0m \u001b[0;34m=\u001b[0m \u001b[0mbatsmen\u001b[0m\u001b[0;34m[\u001b[0m\u001b[0;36m0\u001b[0m\u001b[0;34m]\u001b[0m\u001b[0;34m\u001b[0m\u001b[0m\n",
      "\u001b[0;31mTypeError\u001b[0m: string indices must be integers, not str"
     ]
    }
   ],
   "source": [
    "cricket_main(True)"
   ]
  },
  {
   "cell_type": "code",
   "execution_count": null,
   "metadata": {
    "collapsed": true
   },
   "outputs": [],
   "source": []
  },
  {
   "cell_type": "code",
   "execution_count": 89,
   "metadata": {},
   "outputs": [
    {
     "name": "stdout",
     "output_type": "stream",
     "text": [
      "['matchinfo', 'batting', 'bowling']\n",
      "{'batsman': [{'six': u'0', 'runs': u'12', 'balls': u'12', 'fours': u'1', 'name': u'Dhoni*'}, {'six': u'0', 'runs': u'7', 'balls': u'4', 'fours': u'1', 'name': u'Kedar Jadhav'}], 'score': [{'runs': u'302', 'wickets': u'5', 'overs': u'42.4', 'desc': u'Inns'}], 'team': u'IND'}\n",
      "302\n",
      "5\n",
      "42.4\n"
     ]
    }
   ],
   "source": [
    "print resp.keys()\n",
    "print resp['batting']\n",
    "print resp['batting']['score'][0]['runs']\n",
    "print resp['batting']['score'][0]['wickets']\n",
    "print resp['batting']['score'][0]['overs']"
   ]
  },
  {
   "cell_type": "code",
   "execution_count": 61,
   "metadata": {
    "collapsed": true
   },
   "outputs": [],
   "source": [
    "def main(instant=False):\n",
    "    global number_of_times, messages, recepients, i_match, cricket\n",
    "    j = 0\n",
    "    for i in range(number_of_times):\n",
    "        for msg in messages:\n",
    "            print \"[%d]\"%(j+1)\n",
    "            sendMessage(msg, recepients, instant)\n",
    "            j += 1"
   ]
  },
  {
   "cell_type": "code",
   "execution_count": 62,
   "metadata": {},
   "outputs": [
    {
     "name": "stdout",
     "output_type": "stream",
     "text": [
      "{'status': u'Match reduced to 43 overs per side due to rain delay', 'mchstate': u'inprogress', 'mchdesc': u'WI vs IND', 'srs': u'India tour of West Indies, 2017', 'mnum': u'2nd ODI', 'type': u'ODI', 'id': u'3'}\n",
      "\n",
      "\n",
      "Getting for:  {'status': u'Match reduced to 43 overs per side due to rain delay', 'mchstate': u'inprogress', 'mchdesc': u'WI vs IND', 'srs': u'India tour of West Indies, 2017', 'mnum': u'2nd ODI', 'type': u'ODI', 'id': u'3'}\n",
      "{'six': u'4', 'runs': u'87', 'balls': u'65', 'fours': u'4', 'name': u'Kohli*'} {'six': u'0', 'runs': u'4', 'balls': u'6', 'fours': u'0', 'name': u'Dhoni'}\n",
      "\n",
      "\n",
      "Getting for:  {'status': u'Match reduced to 43 overs per side due to rain delay', 'mchstate': u'inprogress', 'mchdesc': u'WI vs IND', 'srs': u'India tour of West Indies, 2017', 'mnum': u'2nd ODI', 'type': u'ODI', 'id': u'3'}\n",
      "{'six': u'4', 'runs': u'87', 'balls': u'65', 'fours': u'4', 'name': u'Kohli*'} {'six': u'0', 'runs': u'4', 'balls': u'6', 'fours': u'0', 'name': u'Dhoni'}\n",
      "\n",
      "\n",
      "Getting for:  {'status': u'Match reduced to 43 overs per side due to rain delay', 'mchstate': u'inprogress', 'mchdesc': u'WI vs IND', 'srs': u'India tour of West Indies, 2017', 'mnum': u'2nd ODI', 'type': u'ODI', 'id': u'3'}\n",
      "{'six': u'4', 'runs': u'87', 'balls': u'65', 'fours': u'4', 'name': u'Kohli*'} {'six': u'0', 'runs': u'4', 'balls': u'6', 'fours': u'0', 'name': u'Dhoni'}\n",
      "\n",
      "\n",
      "Getting for:  {'status': u'Match reduced to 43 overs per side due to rain delay', 'mchstate': u'inprogress', 'mchdesc': u'WI vs IND', 'srs': u'India tour of West Indies, 2017', 'mnum': u'2nd ODI', 'type': u'ODI', 'id': u'3'}\n",
      "{'six': u'4', 'runs': u'87', 'balls': u'65', 'fours': u'4', 'name': u'Kohli*'} {'six': u'0', 'runs': u'4', 'balls': u'6', 'fours': u'0', 'name': u'Dhoni'}\n",
      "\n",
      "\n",
      "Getting for:  {'status': u'Match reduced to 43 overs per side due to rain delay', 'mchstate': u'inprogress', 'mchdesc': u'WI vs IND', 'srs': u'India tour of West Indies, 2017', 'mnum': u'2nd ODI', 'type': u'ODI', 'id': u'3'}\n"
     ]
    },
    {
     "ename": "KeyboardInterrupt",
     "evalue": "",
     "output_type": "error",
     "traceback": [
      "\u001b[0;31m-------------------------------------------------\u001b[0m",
      "\u001b[0;31mKeyboardInterrupt\u001b[0mTraceback (most recent call last)",
      "\u001b[0;32m<ipython-input-62-0ec244b35381>\u001b[0m in \u001b[0;36m<module>\u001b[0;34m()\u001b[0m\n\u001b[1;32m      1\u001b[0m \u001b[0;31m#main(False)\u001b[0m\u001b[0;34m\u001b[0m\u001b[0;34m\u001b[0m\u001b[0m\n\u001b[0;32m----> 2\u001b[0;31m \u001b[0mmsg\u001b[0m \u001b[0;34m=\u001b[0m \u001b[0mcricket_main\u001b[0m\u001b[0;34m(\u001b[0m\u001b[0mFalse\u001b[0m\u001b[0;34m)\u001b[0m\u001b[0;34m\u001b[0m\u001b[0m\n\u001b[0m",
      "\u001b[0;32m<ipython-input-60-2545fa90bebb>\u001b[0m in \u001b[0;36mcricket_main\u001b[0;34m(instant)\u001b[0m\n\u001b[1;32m     12\u001b[0m \u001b[0;34m\u001b[0m\u001b[0m\n\u001b[1;32m     13\u001b[0m     \u001b[0;32mwhile\u001b[0m \u001b[0mTrue\u001b[0m\u001b[0;34m:\u001b[0m\u001b[0;34m\u001b[0m\u001b[0m\n\u001b[0;32m---> 14\u001b[0;31m         \u001b[0mresp\u001b[0m \u001b[0;34m=\u001b[0m \u001b[0mgetScores\u001b[0m\u001b[0;34m(\u001b[0m\u001b[0mcricket\u001b[0m\u001b[0;34m,\u001b[0m \u001b[0mi_match\u001b[0m\u001b[0;34m)\u001b[0m\u001b[0;34m\u001b[0m\u001b[0m\n\u001b[0m\u001b[1;32m     15\u001b[0m         \u001b[0mbatsmen\u001b[0m \u001b[0;34m=\u001b[0m \u001b[0mresp\u001b[0m\u001b[0;34m[\u001b[0m\u001b[0;34m'batting'\u001b[0m\u001b[0;34m]\u001b[0m\u001b[0;34m[\u001b[0m\u001b[0;34m'batsman'\u001b[0m\u001b[0;34m]\u001b[0m\u001b[0;34m\u001b[0m\u001b[0m\n\u001b[1;32m     16\u001b[0m         \u001b[0mbat_one\u001b[0m \u001b[0;34m=\u001b[0m \u001b[0mbatsmen\u001b[0m\u001b[0;34m[\u001b[0m\u001b[0;36m0\u001b[0m\u001b[0;34m]\u001b[0m\u001b[0;34m\u001b[0m\u001b[0m\n",
      "\u001b[0;32m<ipython-input-54-39f4af3586aa>\u001b[0m in \u001b[0;36mgetScores\u001b[0;34m(c, match)\u001b[0m\n\u001b[1;32m      1\u001b[0m \u001b[0;32mdef\u001b[0m \u001b[0mgetScores\u001b[0m\u001b[0;34m(\u001b[0m\u001b[0mc\u001b[0m\u001b[0;34m,\u001b[0m \u001b[0mmatch\u001b[0m\u001b[0;34m)\u001b[0m\u001b[0;34m:\u001b[0m\u001b[0;34m\u001b[0m\u001b[0m\n\u001b[1;32m      2\u001b[0m     \u001b[0;32mprint\u001b[0m \u001b[0;34m\"\\n\\nGetting for: \"\u001b[0m\u001b[0;34m,\u001b[0m \u001b[0mmatch\u001b[0m\u001b[0;34m\u001b[0m\u001b[0m\n\u001b[0;32m----> 3\u001b[0;31m     \u001b[0;32mreturn\u001b[0m \u001b[0mc\u001b[0m\u001b[0;34m.\u001b[0m\u001b[0mlivescore\u001b[0m\u001b[0;34m(\u001b[0m\u001b[0mmatch\u001b[0m\u001b[0;34m[\u001b[0m\u001b[0;34m'id'\u001b[0m\u001b[0;34m]\u001b[0m\u001b[0;34m)\u001b[0m\u001b[0;34m\u001b[0m\u001b[0m\n\u001b[0m",
      "\u001b[0;32m/Users/viper/Work/Experimental/venv/lib/python2.7/site-packages/pycricbuzz/cricbuzz.pyc\u001b[0m in \u001b[0;36mlivescore\u001b[0;34m(self, mid)\u001b[0m\n\u001b[1;32m     39\u001b[0m \u001b[0;34m\u001b[0m\u001b[0m\n\u001b[1;32m     40\u001b[0m         \u001b[0;32mdef\u001b[0m \u001b[0mlivescore\u001b[0m\u001b[0;34m(\u001b[0m\u001b[0mself\u001b[0m\u001b[0;34m,\u001b[0m\u001b[0mmid\u001b[0m\u001b[0;34m)\u001b[0m\u001b[0;34m:\u001b[0m\u001b[0;34m\u001b[0m\u001b[0m\n\u001b[0;32m---> 41\u001b[0;31m                 \u001b[0mxml\u001b[0m \u001b[0;34m=\u001b[0m \u001b[0mself\u001b[0m\u001b[0;34m.\u001b[0m\u001b[0mgetxml\u001b[0m\u001b[0;34m(\u001b[0m\u001b[0mself\u001b[0m\u001b[0;34m.\u001b[0m\u001b[0murl\u001b[0m\u001b[0;34m)\u001b[0m\u001b[0;34m\u001b[0m\u001b[0m\n\u001b[0m\u001b[1;32m     42\u001b[0m                 \u001b[0mmatch\u001b[0m \u001b[0;34m=\u001b[0m \u001b[0mxml\u001b[0m\u001b[0;34m.\u001b[0m\u001b[0mfind\u001b[0m\u001b[0;34m(\u001b[0m\u001b[0mid\u001b[0m \u001b[0;34m=\u001b[0m \u001b[0mmid\u001b[0m\u001b[0;34m)\u001b[0m\u001b[0;34m\u001b[0m\u001b[0m\n\u001b[1;32m     43\u001b[0m                 \u001b[0;32mif\u001b[0m \u001b[0mmatch\u001b[0m \u001b[0;32mis\u001b[0m \u001b[0mNone\u001b[0m\u001b[0;34m:\u001b[0m\u001b[0;34m\u001b[0m\u001b[0m\n",
      "\u001b[0;32m/Users/viper/Work/Experimental/venv/lib/python2.7/site-packages/pycricbuzz/cricbuzz.pyc\u001b[0m in \u001b[0;36mgetxml\u001b[0;34m(self, url)\u001b[0m\n\u001b[1;32m     11\u001b[0m         \u001b[0;32mdef\u001b[0m \u001b[0mgetxml\u001b[0m\u001b[0;34m(\u001b[0m\u001b[0mself\u001b[0m\u001b[0;34m,\u001b[0m\u001b[0murl\u001b[0m\u001b[0;34m)\u001b[0m\u001b[0;34m:\u001b[0m\u001b[0;34m\u001b[0m\u001b[0m\n\u001b[1;32m     12\u001b[0m                 \u001b[0;32mtry\u001b[0m\u001b[0;34m:\u001b[0m\u001b[0;34m\u001b[0m\u001b[0m\n\u001b[0;32m---> 13\u001b[0;31m                         \u001b[0mr\u001b[0m \u001b[0;34m=\u001b[0m \u001b[0mrequests\u001b[0m\u001b[0;34m.\u001b[0m\u001b[0mget\u001b[0m\u001b[0;34m(\u001b[0m\u001b[0murl\u001b[0m\u001b[0;34m)\u001b[0m\u001b[0;34m\u001b[0m\u001b[0m\n\u001b[0m\u001b[1;32m     14\u001b[0m                 \u001b[0;32mexcept\u001b[0m \u001b[0mrequests\u001b[0m\u001b[0;34m.\u001b[0m\u001b[0mexceptions\u001b[0m\u001b[0;34m.\u001b[0m\u001b[0mRequestException\u001b[0m \u001b[0;32mas\u001b[0m \u001b[0me\u001b[0m\u001b[0;34m:\u001b[0m\u001b[0;34m\u001b[0m\u001b[0m\n\u001b[1;32m     15\u001b[0m                         \u001b[0;32mprint\u001b[0m \u001b[0me\u001b[0m\u001b[0;34m\u001b[0m\u001b[0m\n",
      "\u001b[0;32m/Users/viper/Work/Experimental/venv/lib/python2.7/site-packages/requests/api.pyc\u001b[0m in \u001b[0;36mget\u001b[0;34m(url, params, **kwargs)\u001b[0m\n\u001b[1;32m     70\u001b[0m \u001b[0;34m\u001b[0m\u001b[0m\n\u001b[1;32m     71\u001b[0m     \u001b[0mkwargs\u001b[0m\u001b[0;34m.\u001b[0m\u001b[0msetdefault\u001b[0m\u001b[0;34m(\u001b[0m\u001b[0;34m'allow_redirects'\u001b[0m\u001b[0;34m,\u001b[0m \u001b[0mTrue\u001b[0m\u001b[0;34m)\u001b[0m\u001b[0;34m\u001b[0m\u001b[0m\n\u001b[0;32m---> 72\u001b[0;31m     \u001b[0;32mreturn\u001b[0m \u001b[0mrequest\u001b[0m\u001b[0;34m(\u001b[0m\u001b[0;34m'get'\u001b[0m\u001b[0;34m,\u001b[0m \u001b[0murl\u001b[0m\u001b[0;34m,\u001b[0m \u001b[0mparams\u001b[0m\u001b[0;34m=\u001b[0m\u001b[0mparams\u001b[0m\u001b[0;34m,\u001b[0m \u001b[0;34m**\u001b[0m\u001b[0mkwargs\u001b[0m\u001b[0;34m)\u001b[0m\u001b[0;34m\u001b[0m\u001b[0m\n\u001b[0m\u001b[1;32m     73\u001b[0m \u001b[0;34m\u001b[0m\u001b[0m\n\u001b[1;32m     74\u001b[0m \u001b[0;34m\u001b[0m\u001b[0m\n",
      "\u001b[0;32m/Users/viper/Work/Experimental/venv/lib/python2.7/site-packages/requests/api.pyc\u001b[0m in \u001b[0;36mrequest\u001b[0;34m(method, url, **kwargs)\u001b[0m\n\u001b[1;32m     56\u001b[0m     \u001b[0;31m# cases, and look like a memory leak in others.\u001b[0m\u001b[0;34m\u001b[0m\u001b[0;34m\u001b[0m\u001b[0m\n\u001b[1;32m     57\u001b[0m     \u001b[0;32mwith\u001b[0m \u001b[0msessions\u001b[0m\u001b[0;34m.\u001b[0m\u001b[0mSession\u001b[0m\u001b[0;34m(\u001b[0m\u001b[0;34m)\u001b[0m \u001b[0;32mas\u001b[0m \u001b[0msession\u001b[0m\u001b[0;34m:\u001b[0m\u001b[0;34m\u001b[0m\u001b[0m\n\u001b[0;32m---> 58\u001b[0;31m         \u001b[0;32mreturn\u001b[0m \u001b[0msession\u001b[0m\u001b[0;34m.\u001b[0m\u001b[0mrequest\u001b[0m\u001b[0;34m(\u001b[0m\u001b[0mmethod\u001b[0m\u001b[0;34m=\u001b[0m\u001b[0mmethod\u001b[0m\u001b[0;34m,\u001b[0m \u001b[0murl\u001b[0m\u001b[0;34m=\u001b[0m\u001b[0murl\u001b[0m\u001b[0;34m,\u001b[0m \u001b[0;34m**\u001b[0m\u001b[0mkwargs\u001b[0m\u001b[0;34m)\u001b[0m\u001b[0;34m\u001b[0m\u001b[0m\n\u001b[0m\u001b[1;32m     59\u001b[0m \u001b[0;34m\u001b[0m\u001b[0m\n\u001b[1;32m     60\u001b[0m \u001b[0;34m\u001b[0m\u001b[0m\n",
      "\u001b[0;32m/Users/viper/Work/Experimental/venv/lib/python2.7/site-packages/requests/sessions.pyc\u001b[0m in \u001b[0;36mrequest\u001b[0;34m(self, method, url, params, data, headers, cookies, files, auth, timeout, allow_redirects, proxies, hooks, stream, verify, cert, json)\u001b[0m\n\u001b[1;32m    500\u001b[0m         }\n\u001b[1;32m    501\u001b[0m         \u001b[0msend_kwargs\u001b[0m\u001b[0;34m.\u001b[0m\u001b[0mupdate\u001b[0m\u001b[0;34m(\u001b[0m\u001b[0msettings\u001b[0m\u001b[0;34m)\u001b[0m\u001b[0;34m\u001b[0m\u001b[0m\n\u001b[0;32m--> 502\u001b[0;31m         \u001b[0mresp\u001b[0m \u001b[0;34m=\u001b[0m \u001b[0mself\u001b[0m\u001b[0;34m.\u001b[0m\u001b[0msend\u001b[0m\u001b[0;34m(\u001b[0m\u001b[0mprep\u001b[0m\u001b[0;34m,\u001b[0m \u001b[0;34m**\u001b[0m\u001b[0msend_kwargs\u001b[0m\u001b[0;34m)\u001b[0m\u001b[0;34m\u001b[0m\u001b[0m\n\u001b[0m\u001b[1;32m    503\u001b[0m \u001b[0;34m\u001b[0m\u001b[0m\n\u001b[1;32m    504\u001b[0m         \u001b[0;32mreturn\u001b[0m \u001b[0mresp\u001b[0m\u001b[0;34m\u001b[0m\u001b[0m\n",
      "\u001b[0;32m/Users/viper/Work/Experimental/venv/lib/python2.7/site-packages/requests/sessions.pyc\u001b[0m in \u001b[0;36msend\u001b[0;34m(self, request, **kwargs)\u001b[0m\n\u001b[1;32m    610\u001b[0m \u001b[0;34m\u001b[0m\u001b[0m\n\u001b[1;32m    611\u001b[0m         \u001b[0;31m# Send the request\u001b[0m\u001b[0;34m\u001b[0m\u001b[0;34m\u001b[0m\u001b[0m\n\u001b[0;32m--> 612\u001b[0;31m         \u001b[0mr\u001b[0m \u001b[0;34m=\u001b[0m \u001b[0madapter\u001b[0m\u001b[0;34m.\u001b[0m\u001b[0msend\u001b[0m\u001b[0;34m(\u001b[0m\u001b[0mrequest\u001b[0m\u001b[0;34m,\u001b[0m \u001b[0;34m**\u001b[0m\u001b[0mkwargs\u001b[0m\u001b[0;34m)\u001b[0m\u001b[0;34m\u001b[0m\u001b[0m\n\u001b[0m\u001b[1;32m    613\u001b[0m \u001b[0;34m\u001b[0m\u001b[0m\n\u001b[1;32m    614\u001b[0m         \u001b[0;31m# Total elapsed time of the request (approximately)\u001b[0m\u001b[0;34m\u001b[0m\u001b[0;34m\u001b[0m\u001b[0m\n",
      "\u001b[0;32m/Users/viper/Work/Experimental/venv/lib/python2.7/site-packages/requests/adapters.pyc\u001b[0m in \u001b[0;36msend\u001b[0;34m(self, request, stream, timeout, verify, cert, proxies)\u001b[0m\n\u001b[1;32m    438\u001b[0m                     \u001b[0mdecode_content\u001b[0m\u001b[0;34m=\u001b[0m\u001b[0mFalse\u001b[0m\u001b[0;34m,\u001b[0m\u001b[0;34m\u001b[0m\u001b[0m\n\u001b[1;32m    439\u001b[0m                     \u001b[0mretries\u001b[0m\u001b[0;34m=\u001b[0m\u001b[0mself\u001b[0m\u001b[0;34m.\u001b[0m\u001b[0mmax_retries\u001b[0m\u001b[0;34m,\u001b[0m\u001b[0;34m\u001b[0m\u001b[0m\n\u001b[0;32m--> 440\u001b[0;31m                     \u001b[0mtimeout\u001b[0m\u001b[0;34m=\u001b[0m\u001b[0mtimeout\u001b[0m\u001b[0;34m\u001b[0m\u001b[0m\n\u001b[0m\u001b[1;32m    441\u001b[0m                 )\n\u001b[1;32m    442\u001b[0m \u001b[0;34m\u001b[0m\u001b[0m\n",
      "\u001b[0;32m/Users/viper/Work/Experimental/venv/lib/python2.7/site-packages/urllib3/connectionpool.pyc\u001b[0m in \u001b[0;36murlopen\u001b[0;34m(self, method, url, body, headers, retries, redirect, assert_same_host, timeout, pool_timeout, release_conn, chunked, body_pos, **response_kw)\u001b[0m\n\u001b[1;32m    598\u001b[0m                                                   \u001b[0mtimeout\u001b[0m\u001b[0;34m=\u001b[0m\u001b[0mtimeout_obj\u001b[0m\u001b[0;34m,\u001b[0m\u001b[0;34m\u001b[0m\u001b[0m\n\u001b[1;32m    599\u001b[0m                                                   \u001b[0mbody\u001b[0m\u001b[0;34m=\u001b[0m\u001b[0mbody\u001b[0m\u001b[0;34m,\u001b[0m \u001b[0mheaders\u001b[0m\u001b[0;34m=\u001b[0m\u001b[0mheaders\u001b[0m\u001b[0;34m,\u001b[0m\u001b[0;34m\u001b[0m\u001b[0m\n\u001b[0;32m--> 600\u001b[0;31m                                                   chunked=chunked)\n\u001b[0m\u001b[1;32m    601\u001b[0m \u001b[0;34m\u001b[0m\u001b[0m\n\u001b[1;32m    602\u001b[0m             \u001b[0;31m# If we're going to release the connection in ``finally:``, then\u001b[0m\u001b[0;34m\u001b[0m\u001b[0;34m\u001b[0m\u001b[0m\n",
      "\u001b[0;32m/Users/viper/Work/Experimental/venv/lib/python2.7/site-packages/urllib3/connectionpool.pyc\u001b[0m in \u001b[0;36m_make_request\u001b[0;34m(self, conn, method, url, timeout, chunked, **httplib_request_kw)\u001b[0m\n\u001b[1;32m    354\u001b[0m             \u001b[0mconn\u001b[0m\u001b[0;34m.\u001b[0m\u001b[0mrequest_chunked\u001b[0m\u001b[0;34m(\u001b[0m\u001b[0mmethod\u001b[0m\u001b[0;34m,\u001b[0m \u001b[0murl\u001b[0m\u001b[0;34m,\u001b[0m \u001b[0;34m**\u001b[0m\u001b[0mhttplib_request_kw\u001b[0m\u001b[0;34m)\u001b[0m\u001b[0;34m\u001b[0m\u001b[0m\n\u001b[1;32m    355\u001b[0m         \u001b[0;32melse\u001b[0m\u001b[0;34m:\u001b[0m\u001b[0;34m\u001b[0m\u001b[0m\n\u001b[0;32m--> 356\u001b[0;31m             \u001b[0mconn\u001b[0m\u001b[0;34m.\u001b[0m\u001b[0mrequest\u001b[0m\u001b[0;34m(\u001b[0m\u001b[0mmethod\u001b[0m\u001b[0;34m,\u001b[0m \u001b[0murl\u001b[0m\u001b[0;34m,\u001b[0m \u001b[0;34m**\u001b[0m\u001b[0mhttplib_request_kw\u001b[0m\u001b[0;34m)\u001b[0m\u001b[0;34m\u001b[0m\u001b[0m\n\u001b[0m\u001b[1;32m    357\u001b[0m \u001b[0;34m\u001b[0m\u001b[0m\n\u001b[1;32m    358\u001b[0m         \u001b[0;31m# Reset the timeout for the recv() on the socket\u001b[0m\u001b[0;34m\u001b[0m\u001b[0;34m\u001b[0m\u001b[0m\n",
      "\u001b[0;32m/System/Library/Frameworks/Python.framework/Versions/2.7/lib/python2.7/httplib.pyc\u001b[0m in \u001b[0;36mrequest\u001b[0;34m(self, method, url, body, headers)\u001b[0m\n\u001b[1;32m   1051\u001b[0m     \u001b[0;32mdef\u001b[0m \u001b[0mrequest\u001b[0m\u001b[0;34m(\u001b[0m\u001b[0mself\u001b[0m\u001b[0;34m,\u001b[0m \u001b[0mmethod\u001b[0m\u001b[0;34m,\u001b[0m \u001b[0murl\u001b[0m\u001b[0;34m,\u001b[0m \u001b[0mbody\u001b[0m\u001b[0;34m=\u001b[0m\u001b[0mNone\u001b[0m\u001b[0;34m,\u001b[0m \u001b[0mheaders\u001b[0m\u001b[0;34m=\u001b[0m\u001b[0;34m{\u001b[0m\u001b[0;34m}\u001b[0m\u001b[0;34m)\u001b[0m\u001b[0;34m:\u001b[0m\u001b[0;34m\u001b[0m\u001b[0m\n\u001b[1;32m   1052\u001b[0m         \u001b[0;34m\"\"\"Send a complete request to the server.\"\"\"\u001b[0m\u001b[0;34m\u001b[0m\u001b[0m\n\u001b[0;32m-> 1053\u001b[0;31m         \u001b[0mself\u001b[0m\u001b[0;34m.\u001b[0m\u001b[0m_send_request\u001b[0m\u001b[0;34m(\u001b[0m\u001b[0mmethod\u001b[0m\u001b[0;34m,\u001b[0m \u001b[0murl\u001b[0m\u001b[0;34m,\u001b[0m \u001b[0mbody\u001b[0m\u001b[0;34m,\u001b[0m \u001b[0mheaders\u001b[0m\u001b[0;34m)\u001b[0m\u001b[0;34m\u001b[0m\u001b[0m\n\u001b[0m\u001b[1;32m   1054\u001b[0m \u001b[0;34m\u001b[0m\u001b[0m\n\u001b[1;32m   1055\u001b[0m     \u001b[0;32mdef\u001b[0m \u001b[0m_set_content_length\u001b[0m\u001b[0;34m(\u001b[0m\u001b[0mself\u001b[0m\u001b[0;34m,\u001b[0m \u001b[0mbody\u001b[0m\u001b[0;34m,\u001b[0m \u001b[0mmethod\u001b[0m\u001b[0;34m)\u001b[0m\u001b[0;34m:\u001b[0m\u001b[0;34m\u001b[0m\u001b[0m\n",
      "\u001b[0;32m/System/Library/Frameworks/Python.framework/Versions/2.7/lib/python2.7/httplib.pyc\u001b[0m in \u001b[0;36m_send_request\u001b[0;34m(self, method, url, body, headers)\u001b[0m\n\u001b[1;32m   1091\u001b[0m         \u001b[0;32mfor\u001b[0m \u001b[0mhdr\u001b[0m\u001b[0;34m,\u001b[0m \u001b[0mvalue\u001b[0m \u001b[0;32min\u001b[0m \u001b[0mheaders\u001b[0m\u001b[0;34m.\u001b[0m\u001b[0miteritems\u001b[0m\u001b[0;34m(\u001b[0m\u001b[0;34m)\u001b[0m\u001b[0;34m:\u001b[0m\u001b[0;34m\u001b[0m\u001b[0m\n\u001b[1;32m   1092\u001b[0m             \u001b[0mself\u001b[0m\u001b[0;34m.\u001b[0m\u001b[0mputheader\u001b[0m\u001b[0;34m(\u001b[0m\u001b[0mhdr\u001b[0m\u001b[0;34m,\u001b[0m \u001b[0mvalue\u001b[0m\u001b[0;34m)\u001b[0m\u001b[0;34m\u001b[0m\u001b[0m\n\u001b[0;32m-> 1093\u001b[0;31m         \u001b[0mself\u001b[0m\u001b[0;34m.\u001b[0m\u001b[0mendheaders\u001b[0m\u001b[0;34m(\u001b[0m\u001b[0mbody\u001b[0m\u001b[0;34m)\u001b[0m\u001b[0;34m\u001b[0m\u001b[0m\n\u001b[0m\u001b[1;32m   1094\u001b[0m \u001b[0;34m\u001b[0m\u001b[0m\n\u001b[1;32m   1095\u001b[0m     \u001b[0;32mdef\u001b[0m \u001b[0mgetresponse\u001b[0m\u001b[0;34m(\u001b[0m\u001b[0mself\u001b[0m\u001b[0;34m,\u001b[0m \u001b[0mbuffering\u001b[0m\u001b[0;34m=\u001b[0m\u001b[0mFalse\u001b[0m\u001b[0;34m)\u001b[0m\u001b[0;34m:\u001b[0m\u001b[0;34m\u001b[0m\u001b[0m\n",
      "\u001b[0;32m/System/Library/Frameworks/Python.framework/Versions/2.7/lib/python2.7/httplib.pyc\u001b[0m in \u001b[0;36mendheaders\u001b[0;34m(self, message_body)\u001b[0m\n\u001b[1;32m   1047\u001b[0m         \u001b[0;32melse\u001b[0m\u001b[0;34m:\u001b[0m\u001b[0;34m\u001b[0m\u001b[0m\n\u001b[1;32m   1048\u001b[0m             \u001b[0;32mraise\u001b[0m \u001b[0mCannotSendHeader\u001b[0m\u001b[0;34m(\u001b[0m\u001b[0;34m)\u001b[0m\u001b[0;34m\u001b[0m\u001b[0m\n\u001b[0;32m-> 1049\u001b[0;31m         \u001b[0mself\u001b[0m\u001b[0;34m.\u001b[0m\u001b[0m_send_output\u001b[0m\u001b[0;34m(\u001b[0m\u001b[0mmessage_body\u001b[0m\u001b[0;34m)\u001b[0m\u001b[0;34m\u001b[0m\u001b[0m\n\u001b[0m\u001b[1;32m   1050\u001b[0m \u001b[0;34m\u001b[0m\u001b[0m\n\u001b[1;32m   1051\u001b[0m     \u001b[0;32mdef\u001b[0m \u001b[0mrequest\u001b[0m\u001b[0;34m(\u001b[0m\u001b[0mself\u001b[0m\u001b[0;34m,\u001b[0m \u001b[0mmethod\u001b[0m\u001b[0;34m,\u001b[0m \u001b[0murl\u001b[0m\u001b[0;34m,\u001b[0m \u001b[0mbody\u001b[0m\u001b[0;34m=\u001b[0m\u001b[0mNone\u001b[0m\u001b[0;34m,\u001b[0m \u001b[0mheaders\u001b[0m\u001b[0;34m=\u001b[0m\u001b[0;34m{\u001b[0m\u001b[0;34m}\u001b[0m\u001b[0;34m)\u001b[0m\u001b[0;34m:\u001b[0m\u001b[0;34m\u001b[0m\u001b[0m\n",
      "\u001b[0;32m/System/Library/Frameworks/Python.framework/Versions/2.7/lib/python2.7/httplib.pyc\u001b[0m in \u001b[0;36m_send_output\u001b[0;34m(self, message_body)\u001b[0m\n\u001b[1;32m    891\u001b[0m             \u001b[0mmsg\u001b[0m \u001b[0;34m+=\u001b[0m \u001b[0mmessage_body\u001b[0m\u001b[0;34m\u001b[0m\u001b[0m\n\u001b[1;32m    892\u001b[0m             \u001b[0mmessage_body\u001b[0m \u001b[0;34m=\u001b[0m \u001b[0mNone\u001b[0m\u001b[0;34m\u001b[0m\u001b[0m\n\u001b[0;32m--> 893\u001b[0;31m         \u001b[0mself\u001b[0m\u001b[0;34m.\u001b[0m\u001b[0msend\u001b[0m\u001b[0;34m(\u001b[0m\u001b[0mmsg\u001b[0m\u001b[0;34m)\u001b[0m\u001b[0;34m\u001b[0m\u001b[0m\n\u001b[0m\u001b[1;32m    894\u001b[0m         \u001b[0;32mif\u001b[0m \u001b[0mmessage_body\u001b[0m \u001b[0;32mis\u001b[0m \u001b[0;32mnot\u001b[0m \u001b[0mNone\u001b[0m\u001b[0;34m:\u001b[0m\u001b[0;34m\u001b[0m\u001b[0m\n\u001b[1;32m    895\u001b[0m             \u001b[0;31m#message_body was not a string (i.e. it is a file) and\u001b[0m\u001b[0;34m\u001b[0m\u001b[0;34m\u001b[0m\u001b[0m\n",
      "\u001b[0;32m/System/Library/Frameworks/Python.framework/Versions/2.7/lib/python2.7/httplib.pyc\u001b[0m in \u001b[0;36msend\u001b[0;34m(self, data)\u001b[0m\n\u001b[1;32m    853\u001b[0m         \u001b[0;32mif\u001b[0m \u001b[0mself\u001b[0m\u001b[0;34m.\u001b[0m\u001b[0msock\u001b[0m \u001b[0;32mis\u001b[0m \u001b[0mNone\u001b[0m\u001b[0;34m:\u001b[0m\u001b[0;34m\u001b[0m\u001b[0m\n\u001b[1;32m    854\u001b[0m             \u001b[0;32mif\u001b[0m \u001b[0mself\u001b[0m\u001b[0;34m.\u001b[0m\u001b[0mauto_open\u001b[0m\u001b[0;34m:\u001b[0m\u001b[0;34m\u001b[0m\u001b[0m\n\u001b[0;32m--> 855\u001b[0;31m                 \u001b[0mself\u001b[0m\u001b[0;34m.\u001b[0m\u001b[0mconnect\u001b[0m\u001b[0;34m(\u001b[0m\u001b[0;34m)\u001b[0m\u001b[0;34m\u001b[0m\u001b[0m\n\u001b[0m\u001b[1;32m    856\u001b[0m             \u001b[0;32melse\u001b[0m\u001b[0;34m:\u001b[0m\u001b[0;34m\u001b[0m\u001b[0m\n\u001b[1;32m    857\u001b[0m                 \u001b[0;32mraise\u001b[0m \u001b[0mNotConnected\u001b[0m\u001b[0;34m(\u001b[0m\u001b[0;34m)\u001b[0m\u001b[0;34m\u001b[0m\u001b[0m\n",
      "\u001b[0;32m/Users/viper/Work/Experimental/venv/lib/python2.7/site-packages/urllib3/connection.pyc\u001b[0m in \u001b[0;36mconnect\u001b[0;34m(self)\u001b[0m\n\u001b[1;32m    164\u001b[0m \u001b[0;34m\u001b[0m\u001b[0m\n\u001b[1;32m    165\u001b[0m     \u001b[0;32mdef\u001b[0m \u001b[0mconnect\u001b[0m\u001b[0;34m(\u001b[0m\u001b[0mself\u001b[0m\u001b[0;34m)\u001b[0m\u001b[0;34m:\u001b[0m\u001b[0;34m\u001b[0m\u001b[0m\n\u001b[0;32m--> 166\u001b[0;31m         \u001b[0mconn\u001b[0m \u001b[0;34m=\u001b[0m \u001b[0mself\u001b[0m\u001b[0;34m.\u001b[0m\u001b[0m_new_conn\u001b[0m\u001b[0;34m(\u001b[0m\u001b[0;34m)\u001b[0m\u001b[0;34m\u001b[0m\u001b[0m\n\u001b[0m\u001b[1;32m    167\u001b[0m         \u001b[0mself\u001b[0m\u001b[0;34m.\u001b[0m\u001b[0m_prepare_conn\u001b[0m\u001b[0;34m(\u001b[0m\u001b[0mconn\u001b[0m\u001b[0;34m)\u001b[0m\u001b[0;34m\u001b[0m\u001b[0m\n\u001b[1;32m    168\u001b[0m \u001b[0;34m\u001b[0m\u001b[0m\n",
      "\u001b[0;32m/Users/viper/Work/Experimental/venv/lib/python2.7/site-packages/urllib3/connection.pyc\u001b[0m in \u001b[0;36m_new_conn\u001b[0;34m(self)\u001b[0m\n\u001b[1;32m    139\u001b[0m         \u001b[0;32mtry\u001b[0m\u001b[0;34m:\u001b[0m\u001b[0;34m\u001b[0m\u001b[0m\n\u001b[1;32m    140\u001b[0m             conn = connection.create_connection(\n\u001b[0;32m--> 141\u001b[0;31m                 (self.host, self.port), self.timeout, **extra_kw)\n\u001b[0m\u001b[1;32m    142\u001b[0m \u001b[0;34m\u001b[0m\u001b[0m\n\u001b[1;32m    143\u001b[0m         \u001b[0;32mexcept\u001b[0m \u001b[0mSocketTimeout\u001b[0m \u001b[0;32mas\u001b[0m \u001b[0me\u001b[0m\u001b[0;34m:\u001b[0m\u001b[0;34m\u001b[0m\u001b[0m\n",
      "\u001b[0;32m/Users/viper/Work/Experimental/venv/lib/python2.7/site-packages/urllib3/util/connection.pyc\u001b[0m in \u001b[0;36mcreate_connection\u001b[0;34m(address, timeout, source_address, socket_options)\u001b[0m\n\u001b[1;32m     71\u001b[0m             \u001b[0;32mif\u001b[0m \u001b[0msource_address\u001b[0m\u001b[0;34m:\u001b[0m\u001b[0;34m\u001b[0m\u001b[0m\n\u001b[1;32m     72\u001b[0m                 \u001b[0msock\u001b[0m\u001b[0;34m.\u001b[0m\u001b[0mbind\u001b[0m\u001b[0;34m(\u001b[0m\u001b[0msource_address\u001b[0m\u001b[0;34m)\u001b[0m\u001b[0;34m\u001b[0m\u001b[0m\n\u001b[0;32m---> 73\u001b[0;31m             \u001b[0msock\u001b[0m\u001b[0;34m.\u001b[0m\u001b[0mconnect\u001b[0m\u001b[0;34m(\u001b[0m\u001b[0msa\u001b[0m\u001b[0;34m)\u001b[0m\u001b[0;34m\u001b[0m\u001b[0m\n\u001b[0m\u001b[1;32m     74\u001b[0m             \u001b[0;32mreturn\u001b[0m \u001b[0msock\u001b[0m\u001b[0;34m\u001b[0m\u001b[0m\n\u001b[1;32m     75\u001b[0m \u001b[0;34m\u001b[0m\u001b[0m\n",
      "\u001b[0;32m/System/Library/Frameworks/Python.framework/Versions/2.7/lib/python2.7/socket.pyc\u001b[0m in \u001b[0;36mmeth\u001b[0;34m(name, self, *args)\u001b[0m\n\u001b[1;32m    226\u001b[0m \u001b[0;34m\u001b[0m\u001b[0m\n\u001b[1;32m    227\u001b[0m \u001b[0;32mdef\u001b[0m \u001b[0mmeth\u001b[0m\u001b[0;34m(\u001b[0m\u001b[0mname\u001b[0m\u001b[0;34m,\u001b[0m\u001b[0mself\u001b[0m\u001b[0;34m,\u001b[0m\u001b[0;34m*\u001b[0m\u001b[0margs\u001b[0m\u001b[0;34m)\u001b[0m\u001b[0;34m:\u001b[0m\u001b[0;34m\u001b[0m\u001b[0m\n\u001b[0;32m--> 228\u001b[0;31m     \u001b[0;32mreturn\u001b[0m \u001b[0mgetattr\u001b[0m\u001b[0;34m(\u001b[0m\u001b[0mself\u001b[0m\u001b[0;34m.\u001b[0m\u001b[0m_sock\u001b[0m\u001b[0;34m,\u001b[0m\u001b[0mname\u001b[0m\u001b[0;34m)\u001b[0m\u001b[0;34m(\u001b[0m\u001b[0;34m*\u001b[0m\u001b[0margs\u001b[0m\u001b[0;34m)\u001b[0m\u001b[0;34m\u001b[0m\u001b[0m\n\u001b[0m\u001b[1;32m    229\u001b[0m \u001b[0;34m\u001b[0m\u001b[0m\n\u001b[1;32m    230\u001b[0m \u001b[0;32mfor\u001b[0m \u001b[0m_m\u001b[0m \u001b[0;32min\u001b[0m \u001b[0m_socketmethods\u001b[0m\u001b[0;34m:\u001b[0m\u001b[0;34m\u001b[0m\u001b[0m\n",
      "\u001b[0;31mKeyboardInterrupt\u001b[0m: "
     ]
    }
   ],
   "source": [
    "main(False)"
   ]
  },
  {
   "cell_type": "code",
   "execution_count": null,
   "metadata": {},
   "outputs": [],
   "source": [
    "msg"
   ]
  },
  {
   "cell_type": "code",
   "execution_count": 8,
   "metadata": {
    "collapsed": true
   },
   "outputs": [],
   "source": [
    "from datetime import datetime\n",
    "from threading import Timer"
   ]
  },
  {
   "cell_type": "code",
   "execution_count": 9,
   "metadata": {},
   "outputs": [
    {
     "name": "stdout",
     "output_type": "stream",
     "text": [
      "Starting after 17.466667 minutes\n"
     ]
    }
   ],
   "source": [
    "x=datetime.today()\n",
    "y=x.replace(day=x.day+1, hour=0, minute=0, second=0, microsecond=0)\n",
    "delta_t=y-x\n",
    "secs=delta_t.seconds+1\n",
    "\n",
    "print \"Starting after %f minutes\"%(secs/60.0)\n",
    "\n",
    "t = Timer(secs, main)\n",
    "t.start()"
   ]
  },
  {
   "cell_type": "code",
   "execution_count": null,
   "metadata": {
    "collapsed": true
   },
   "outputs": [],
   "source": []
  },
  {
   "cell_type": "code",
   "execution_count": null,
   "metadata": {
    "collapsed": true
   },
   "outputs": [],
   "source": [
    "web_driver_quit()"
   ]
  }
 ],
 "metadata": {
  "kernelspec": {
   "display_name": "Python 2",
   "language": "python",
   "name": "python2"
  },
  "language_info": {
   "codemirror_mode": {
    "name": "ipython",
    "version": 2
   },
   "file_extension": ".py",
   "mimetype": "text/x-python",
   "name": "python",
   "nbconvert_exporter": "python",
   "pygments_lexer": "ipython2",
   "version": "2.7.10"
  }
 },
 "nbformat": 4,
 "nbformat_minor": 1
}
