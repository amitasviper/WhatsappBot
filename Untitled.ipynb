{
 "cells": [
  {
   "cell_type": "code",
   "execution_count": null,
   "metadata": {
    "collapsed": true
   },
   "outputs": [],
   "source": []
  },
  {
   "cell_type": "code",
   "execution_count": 4,
   "metadata": {
    "collapsed": true
   },
   "outputs": [],
   "source": [
    "from selenium import webdriver\n",
    "from selenium.webdriver.common.keys import Keys\n",
    "import time, os\n",
    "\n",
    "driver = None"
   ]
  },
  {
   "cell_type": "code",
   "execution_count": 5,
   "metadata": {
    "collapsed": true
   },
   "outputs": [],
   "source": [
    "def wait(web_opening_time=3):\n",
    "\ttime.sleep(web_opening_time)\n",
    "\n",
    "def web_driver_load():\n",
    "\tglobal driver\n",
    "\tdriver = webdriver.Chrome(os.path.join(os.getcwd(),'chromedriver'))\n",
    "\n",
    "def web_driver_quit():\n",
    "\tdriver.quit()\n",
    "\n",
    "def whatsapp_login():\n",
    "\tdriver.get('https://web.whatsapp.com/');\n",
    "\twait(10)\n",
    "\n"
   ]
  },
  {
   "cell_type": "code",
   "execution_count": 67,
   "metadata": {
    "collapsed": true
   },
   "outputs": [],
   "source": [
    "web_driver_load()\n",
    "whatsapp_login()"
   ]
  },
  {
   "cell_type": "code",
   "execution_count": 75,
   "metadata": {
    "collapsed": true
   },
   "outputs": [],
   "source": [
    "def traverseList():\n",
    "    name_list = driver.find_element_by_xpath(\"//div[@class='infinite-list-viewport']\")\n",
    "    print name_list.location_once_scrolled_into_view\n",
    "    print dir(name_list)\n",
    "    "
   ]
  },
  {
   "cell_type": "code",
   "execution_count": 116,
   "metadata": {
    "collapsed": false
   },
   "outputs": [],
   "source": [
    "def sendMessage(msg, recepient_list):\n",
    "    for recep in recepient_list:\n",
    "        print \"Sending to : \",recep\n",
    "        try:\n",
    "            one_chat = driver.find_element_by_xpath(\"//span[@title='%s']\"%(recep))\n",
    "        except:\n",
    "            print \"Unable to find username [%s]\"%recep\n",
    "            continue\n",
    "        if one_chat != None:\n",
    "            try:\n",
    "                one_chat.click()\n",
    "                wait(1)\n",
    "                print \"Chatbox opened for \", recep\n",
    "                text_box = driver.find_element_by_xpath(\"//div[@contenteditable='true']\")\n",
    "                for letter in list(msg):\n",
    "                    text_box.send_keys(letter)\n",
    "                    wait(0.1)\n",
    "                text_box.send_keys(Keys.RETURN)\n",
    "            except:\n",
    "                print \"Unable to send msg [%s] to [%s]\"%(msg, recep)\n",
    "                continue\n",
    "            \n",
    "            print \"Message [%s] sent to [%s]\"%(msg, recep)"
   ]
  },
  {
   "cell_type": "code",
   "execution_count": 125,
   "metadata": {
    "collapsed": true
   },
   "outputs": [],
   "source": [
    "number_of_times = 1\n",
    "messages = [\"\"\"The modern Olympic Games or Olympics (French: Jeux olympiques[2]) are leading international sporting events featuring summer and winter sports competitions in which thousands of athletes from around the world participate in a variety of competitions. The Olympic Games are considered the world's foremost sports competition with more than 200 nations participating.[3] The Olympic Games are held every four years, with the Summer and Winter Games alternating by occurring every four years but two years apart.\"\"\",\\\n",
    "          \"\"\"Their creation was inspired by the ancient Olympic Games, which were held in Olympia, Greece, from the 8th century BC to the 4th century AD. Baron Pierre de Coubertin founded the International Olympic Committee (IOC) in 1894. The IOC is the governing body of the Olympic Movement, with the Olympic Charter defining its structure and authority.\"\"\"]\n",
    "recepients = [\"Testing\"]"
   ]
  },
  {
   "cell_type": "code",
   "execution_count": 126,
   "metadata": {
    "collapsed": false
   },
   "outputs": [
    {
     "name": "stdout",
     "output_type": "stream",
     "text": [
      "[1]\n",
      "Sending to :  Testing\n",
      "Chatbox opened for  Testing\n",
      "Message [The modern Olympic Games or Olympics (French: Jeux olympiques[2]) are leading international sporting events featuring summer and winter sports competitions in which thousands of athletes from around the world participate in a variety of competitions. The Olympic Games are considered the world's foremost sports competition with more than 200 nations participating.[3] The Olympic Games are held every four years, with the Summer and Winter Games alternating by occurring every four years but two years apart.] sent to [Testing]\n",
      "[1]\n",
      "Sending to :  Testing\n",
      "Chatbox opened for  Testing\n",
      "Message [Their creation was inspired by the ancient Olympic Games, which were held in Olympia, Greece, from the 8th century BC to the 4th century AD. Baron Pierre de Coubertin founded the International Olympic Committee (IOC) in 1894. The IOC is the governing body of the Olympic Movement, with the Olympic Charter defining its structure and authority.] sent to [Testing]\n"
     ]
    }
   ],
   "source": [
    "for i in range(number_of_times):\n",
    "    for msg in messages:\n",
    "        print \"[%d]\"%(i+1)\n",
    "        sendMessage(msg, recepients)"
   ]
  },
  {
   "cell_type": "code",
   "execution_count": 127,
   "metadata": {
    "collapsed": true
   },
   "outputs": [],
   "source": [
    "web_driver_quit()"
   ]
  },
  {
   "cell_type": "code",
   "execution_count": 109,
   "metadata": {
    "collapsed": false
   },
   "outputs": [
    {
     "name": "stdout",
     "output_type": "stream",
     "text": [
      "H\n",
      "a\n",
      "r\n",
      "e\n",
      " \n",
      "R\n",
      "a\n",
      "m\n",
      " \n",
      "H\n",
      "a\n",
      "r\n",
      "e\n",
      " \n",
      "K\n",
      "r\n",
      "i\n",
      "s\n",
      "h\n",
      "n\n",
      "a\n"
     ]
    }
   ],
   "source": [
    "for letter in list(message):\n",
    "    print letter"
   ]
  },
  {
   "cell_type": "code",
   "execution_count": 129,
   "metadata": {
    "collapsed": false
   },
   "outputs": [
    {
     "data": {
      "text/plain": [
       "'/Users/viper/Work/Experimental/amazing-python/whatsapp/chromedriver'"
      ]
     },
     "execution_count": 129,
     "metadata": {},
     "output_type": "execute_result"
    }
   ],
   "source": [
    "import os\n",
    "os.path.join(os.getcwd(),'chromedriver')"
   ]
  },
  {
   "cell_type": "code",
   "execution_count": null,
   "metadata": {
    "collapsed": true
   },
   "outputs": [],
   "source": []
  }
 ],
 "metadata": {
  "kernelspec": {
   "display_name": "Python 2",
   "language": "python",
   "name": "python2"
  },
  "language_info": {
   "codemirror_mode": {
    "name": "ipython",
    "version": 2
   },
   "file_extension": ".py",
   "mimetype": "text/x-python",
   "name": "python",
   "nbconvert_exporter": "python",
   "pygments_lexer": "ipython2",
   "version": "2.7.10"
  }
 },
 "nbformat": 4,
 "nbformat_minor": 0
}
