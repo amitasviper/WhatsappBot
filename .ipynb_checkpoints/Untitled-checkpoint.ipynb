{
 "cells": [
  {
   "cell_type": "code",
   "execution_count": null,
   "metadata": {
    "collapsed": true
   },
   "outputs": [],
   "source": [
    "number_of_times = 2\n",
    "message = 'Happy Birthday'\n",
    "\n",
    "from selenium import webdriver\n",
    "from selenium.webdriver.common.keys import Keys\n",
    "import time\n",
    "\n",
    "## Selenium web drivers\n",
    "driver = None\n",
    "\n",
    "def wait(web_opening_time=3):\n",
    "\ttime.sleep(web_opening_time)\n",
    "\n",
    "## load web driver for selenium : chrome\n",
    "def web_driver_load():\n",
    "\tglobal driver\n",
    "\tdriver = webdriver.Chrome('/Users/viper/Work/Experimental/amazing-python/whatsapp/chromedriver')\n",
    "## quit web driver for selenium\n",
    "def web_driver_quit():\n",
    "\tdriver.quit()\n",
    "\n",
    "## actual login in hockey app site\n",
    "def whatsapp_login():\n",
    "\tdriver.get('https://web.whatsapp.com/');\n",
    "\twait(10)\n",
    "\n",
    "def sendMessage(msg='Hi!'):\n",
    "\tchat_div = driver.find_element_by_xpath(\"//div[@class='chat']\")\n",
    "\tprint \"Chat Div : \",chat_div\n",
    "\n",
    "\tone_chat = chat_div.find_element_by_xpath(\"//span[@title='Vivek Thakur']\")\n",
    "\tif one_chat != None:\n",
    "\t\tprint one_chat\n",
    "\t\tone_chat.send_keys(Keys.RETURN)\n",
    "\n",
    "\twait(10)\n",
    "\n",
    "\tweb_obj = driver.find_element_by_xpath(\"//div[@contenteditable='true']\")\n",
    "\tweb_obj.send_keys(msg)\n",
    "\tweb_obj.send_keys(Keys.RETURN)\n",
    "\n",
    "\n",
    "### Main Method\n",
    "if __name__ == \"__main__\":\n",
    "\tweb_driver_load()\n",
    "\twhatsapp_login()\n",
    "\twait()\n",
    "\t\n",
    "\tfor i in range(number_of_times):\n",
    "\t\tsendMessage(message)\n",
    "\t\twait()\n",
    "\tprint(\"Process complete successfully\")\n",
    "\n",
    "\twait()\n",
    "\tweb_driver_quit()"
   ]
  },
  {
   "cell_type": "code",
   "execution_count": 4,
   "metadata": {
    "collapsed": true
   },
   "outputs": [],
   "source": [
    "from selenium import webdriver\n",
    "from selenium.webdriver.common.keys import Keys\n",
    "import time\n",
    "\n",
    "driver = None"
   ]
  },
  {
   "cell_type": "code",
   "execution_count": 5,
   "metadata": {
    "collapsed": true
   },
   "outputs": [],
   "source": [
    "def wait(web_opening_time=3):\n",
    "\ttime.sleep(web_opening_time)\n",
    "\n",
    "def web_driver_load():\n",
    "\tglobal driver\n",
    "\tdriver = webdriver.Chrome('/Users/viper/Work/Experimental/amazing-python/whatsapp/chromedriver')\n",
    "\n",
    "def web_driver_quit():\n",
    "\tdriver.quit()\n",
    "\n",
    "def whatsapp_login():\n",
    "\tdriver.get('https://web.whatsapp.com/');\n",
    "\twait(10)\n",
    "\n"
   ]
  },
  {
   "cell_type": "code",
   "execution_count": 67,
   "metadata": {
    "collapsed": true
   },
   "outputs": [],
   "source": [
    "web_driver_load()\n",
    "whatsapp_login()"
   ]
  },
  {
   "cell_type": "code",
   "execution_count": 75,
   "metadata": {
    "collapsed": true
   },
   "outputs": [],
   "source": [
    "def traverseList():\n",
    "    name_list = driver.find_element_by_xpath(\"//div[@class='infinite-list-viewport']\")\n",
    "    print name_list.location_once_scrolled_into_view\n",
    "    print dir(name_list)\n",
    "    "
   ]
  },
  {
   "cell_type": "code",
   "execution_count": 99,
   "metadata": {
    "collapsed": false
   },
   "outputs": [],
   "source": [
    "def sendMessage(msg, recepient_list):\n",
    "    for recep in recepient_list:\n",
    "        print \"Sending to : \",recep\n",
    "        try:\n",
    "            one_chat = driver.find_element_by_xpath(\"//span[@title='%s']\"%(recep))\n",
    "        except:\n",
    "            print \"Unable to find username [%s]\"%recep\n",
    "            continue\n",
    "        if one_chat != None:\n",
    "            try:\n",
    "                one_chat.click()\n",
    "                wait(10)\n",
    "                print \"Chatbox opened for \", recep\n",
    "                text_box = driver.find_element_by_xpath(\"//div[@contenteditable='true']\")\n",
    "                text_box.send_keys(msg)\n",
    "                text_box.send_keys(Keys.RETURN)\n",
    "            except:\n",
    "                print \"Unable to send msg [%s] to [%s]\"%(msg, recep)\n",
    "                continue\n",
    "            \n",
    "            print \"Message [%s] sent to [%s]\"%(msg, recep)"
   ]
  },
  {
   "cell_type": "code",
   "execution_count": 100,
   "metadata": {
    "collapsed": true
   },
   "outputs": [],
   "source": [
    "number_of_times = 1\n",
    "message = 'Hare Ram'\n",
    "recepients = [\"Vivek Thakur\"]"
   ]
  },
  {
   "cell_type": "code",
   "execution_count": 101,
   "metadata": {
    "collapsed": false
   },
   "outputs": [
    {
     "name": "stdout",
     "output_type": "stream",
     "text": [
      "Sending to :  Vivek Thakur\n",
      "Chatbox opened for  Vivek Thakur\n",
      "Message [Hare Ram] sent to [Vivek Thakur]\n"
     ]
    }
   ],
   "source": [
    "for i in range(number_of_times):\n",
    "    sendMessage(message, recepients)"
   ]
  },
  {
   "cell_type": "code",
   "execution_count": 66,
   "metadata": {
    "collapsed": true
   },
   "outputs": [],
   "source": [
    "web_driver_quit()"
   ]
  },
  {
   "cell_type": "code",
   "execution_count": null,
   "metadata": {
    "collapsed": true
   },
   "outputs": [],
   "source": []
  }
 ],
 "metadata": {
  "kernelspec": {
   "display_name": "Python 2",
   "language": "python",
   "name": "python2"
  },
  "language_info": {
   "codemirror_mode": {
    "name": "ipython",
    "version": 2
   },
   "file_extension": ".py",
   "mimetype": "text/x-python",
   "name": "python",
   "nbconvert_exporter": "python",
   "pygments_lexer": "ipython2",
   "version": "2.7.10"
  }
 },
 "nbformat": 4,
 "nbformat_minor": 0
}
